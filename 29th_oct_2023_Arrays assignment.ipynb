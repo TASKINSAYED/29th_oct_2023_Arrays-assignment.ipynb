{
 "cells": [
  {
   "cell_type": "code",
   "execution_count": 1,
   "id": "07b56bfd-1198-40bb-b017-cb2f3218a656",
   "metadata": {},
   "outputs": [
    {
     "name": "stdout",
     "output_type": "stream",
     "text": [
      "True\n"
     ]
    }
   ],
   "source": [
    "##Question no.1\n",
    "def duplicates(arr):\n",
    "\n",
    "    for i in range(len(arr)):\n",
    "        for y in range(i+1, len(arr)):\n",
    "            if arr[i] == arr[y]:\n",
    "                return False\n",
    "            else:\n",
    "                return True\n",
    "\n",
    "##Driver code\n",
    "arr=[1,2,4,2,5,9]\n",
    "result= duplicates(arr)\n",
    "print(result)"
   ]
  },
  {
   "cell_type": "code",
   "execution_count": 2,
   "id": "1b549a9b-667d-4429-b386-6b38fec6cec6",
   "metadata": {},
   "outputs": [
    {
     "name": "stdout",
     "output_type": "stream",
     "text": [
      "5 6 7 1 2 3 4 \n",
      "\n"
     ]
    }
   ],
   "source": [
    "##Question no.2\n",
    "def RightRotate(a,n,k):\n",
    "    k = k % n;\n",
    "        \n",
    "    for i in range(0,n):\n",
    "        if(i < k):\n",
    "            print(a[n+i-k], end = \" \");\n",
    "        else:   \n",
    "            print(a[i-k], end = \" \");\n",
    "    print(\"\\n\");\n",
    "    \n",
    "##Driver code\n",
    "arr=[1,2,3,4,5,6,7];\n",
    "N = len(arr);\n",
    "K = 3;\n",
    "RightRotate(arr,N,K);\n"
   ]
  },
  {
   "cell_type": "code",
   "execution_count": 3,
   "id": "315a92db-7527-4352-8536-b6348fbc17c1",
   "metadata": {},
   "outputs": [
    {
     "name": "stdout",
     "output_type": "stream",
     "text": [
      "[2, 4, 5, 7, 9, 12]\n",
      "Reversed list is\n",
      "[12, 9, 7, 5, 4, 2]\n"
     ]
    }
   ],
   "source": [
    "##Question no.3\n",
    "def reverslist(arr, start, end):\n",
    "    while start<end:\n",
    "        arr[start], arr[end]= arr[end], arr[start]\n",
    "        start += 1\n",
    "        end -= 1\n",
    "##Driver code\n",
    "arr=[2,4,5,7,9,12]\n",
    "print(arr)\n",
    "reverslist(arr,0,5)\n",
    "print(\"Reversed list is\")\n",
    "print(arr)\n"
   ]
  },
  {
   "cell_type": "code",
   "execution_count": 4,
   "id": "934c48cd-f689-4d75-93f5-ec693a736adb",
   "metadata": {},
   "outputs": [
    {
     "name": "stdout",
     "output_type": "stream",
     "text": [
      "maximum element is 20\n"
     ]
    }
   ],
   "source": [
    "##Question no.4\n",
    "def maximumelement(arr, low, high):\n",
    "    max= arr[low]\n",
    "    i = low\n",
    "    for i in range (high+1):\n",
    "        if arr[i] > max:\n",
    "            max = arr[i]\n",
    "    return max         \n",
    "\n",
    "##Driver code\n",
    "arr=[10,5,20,8,15]\n",
    "n= len(arr)\n",
    "print(\"maximum element is %d\"%\n",
    "       maximumelement(arr, 0, n-1))"
   ]
  },
  {
   "cell_type": "code",
   "execution_count": 5,
   "id": "2ebc2aa7-ef93-4093-81be-586f8f213509",
   "metadata": {},
   "outputs": [
    {
     "name": "stdout",
     "output_type": "stream",
     "text": [
      "1 2 3 4 5 "
     ]
    }
   ],
   "source": [
    "##Quetion no.5\n",
    "def removeDuplicates(arr, n):\n",
    "    if n == 0 or n == 1:\n",
    "        return n\n",
    " \n",
    "    temp = list(range(n))\n",
    "    j = 0\n",
    "    for i in range(0, n-1):\n",
    "\n",
    "        if arr[i] != arr[i+1]:\n",
    "            temp[j] = arr[i]\n",
    "            j += 1\n",
    "\n",
    "    temp[j] = arr[n-1]\n",
    "    j += 1\n",
    "\n",
    "    for i in range(0, j):\n",
    "        arr[i] = temp[i]\n",
    " \n",
    "    return j\n",
    " \n",
    " \n",
    " ##Driver code\n",
    "if __name__ == '__main__':\n",
    "    arr = [1, 1, 2, 2, 2, 3, 3, 4, 4, 4, 5, 5]\n",
    "    n = len(arr)\n",
    "    n = removeDuplicates(arr, n)\n",
    "    for i in range(n):\n",
    "        print(\"%d\" % (arr[i]), end=\" \")"
   ]
  },
  {
   "cell_type": "code",
   "execution_count": null,
   "id": "a88d9c7c-9843-470d-bf2a-29e26d98c5f6",
   "metadata": {},
   "outputs": [],
   "source": []
  }
 ],
 "metadata": {
  "kernelspec": {
   "display_name": "Python 3 (ipykernel)",
   "language": "python",
   "name": "python3"
  },
  "language_info": {
   "codemirror_mode": {
    "name": "ipython",
    "version": 3
   },
   "file_extension": ".py",
   "mimetype": "text/x-python",
   "name": "python",
   "nbconvert_exporter": "python",
   "pygments_lexer": "ipython3",
   "version": "3.10.8"
  }
 },
 "nbformat": 4,
 "nbformat_minor": 5
}
